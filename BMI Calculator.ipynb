{
 "cells": [
  {
   "cell_type": "markdown",
   "id": "75e3ad13-7e75-4295-b923-c22ee35398bc",
   "metadata": {},
   "source": [
    "# BMI Calculator"
   ]
  },
  {
   "cell_type": "code",
   "execution_count": 25,
   "id": "19c394cb-0899-44ac-b622-17d3fbb10d35",
   "metadata": {},
   "outputs": [
    {
     "name": "stdin",
     "output_type": "stream",
     "text": [
      "Enter your name:  Elizabeth\n",
      "Enter your weight in pounds:  70\n",
      "Enter your height in inches:  49\n"
     ]
    },
    {
     "name": "stdout",
     "output_type": "stream",
     "text": [
      "20.495626822157433\n",
      "Elizabeth, You are normal weight\n"
     ]
    }
   ],
   "source": [
    "name = input(\"Enter your name: \")\n",
    "\n",
    "weight = int(input(\"Enter your weight in pounds: \"))\n",
    "\n",
    "height = int(input(\"Enter your height in inches: \"))\n",
    "\n",
    "BMI = (weight * 703) / (height * height )\n",
    "\n",
    "print(BMI)\n",
    "\n",
    "if BMI > 0:\n",
    "    if(BMI < 18.5):\n",
    "        print(name +\", You are underweight\")\n",
    "    elif(BMI <= 24.9):\n",
    "        print(name +\", You are normal weight\")\n",
    "    elif(BMI < 29.9):\n",
    "        print(name +\", You are overweight. You need to exercise more\")\n",
    "    elif(BMI < 34.9):\n",
    "        print(name +\",  You are obese\")\n",
    "    elif(BMI < 39.9):\n",
    "        print(name +\", You are severerly obese\")\n",
    "    else:\n",
    "        print(name +\", You are morbidly obese\")\n",
    "else:\n",
    "        print(\"Enter valid input\")"
   ]
  }
 ],
 "metadata": {
  "kernelspec": {
   "display_name": "Python 3 (ipykernel)",
   "language": "python",
   "name": "python3"
  },
  "language_info": {
   "codemirror_mode": {
    "name": "ipython",
    "version": 3
   },
   "file_extension": ".py",
   "mimetype": "text/x-python",
   "name": "python",
   "nbconvert_exporter": "python",
   "pygments_lexer": "ipython3",
   "version": "3.12.4"
  }
 },
 "nbformat": 4,
 "nbformat_minor": 5
}
