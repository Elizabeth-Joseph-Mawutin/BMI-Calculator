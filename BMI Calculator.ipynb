{
 "cells": [
  {
   "cell_type": "markdown",
   "id": "75e3ad13-7e75-4295-b923-c22ee35398bc",
   "metadata": {},
   "source": [
    "# BMI Calculator"
   ]
  },
  {
   "cell_type": "code",
   "execution_count": 25,
   "id": "19c394cb-0899-44ac-b622-17d3fbb10d35",
   "metadata": {},
   "outputs": [
    {
     "name": "stdin",
     "output_type": "stream",
     "text": [
      "Enter your name:  Elizabeth\n",
      "Enter your weight in pounds:  70\n",
      "Enter your height in inches:  49\n"
     ]
    },
    {
     "name": "stdout",
     "output_type": "stream",
     "text": [
      "20.495626822157433\n",
      "Elizabeth, You are normal weight\n"
     ]
    }
   ],
   "source": [
    "name = input(\"Enter your name: \")\n",
    "\n",
    "weight = int(input(\"Enter your weight in pounds: \"))\n",
    "\n",
    "height = int(input(\"Enter your height in inches: \"))\n",
    "\n",
    "BMI = (weight * 703) / (height * height )\n",
    "\n",
    "print(BMI)\n",
    "\n",
    "if BMI > 0:\n",
    "    if(BMI < 18.5):\n",
    "        print(name +\", You are underweight\")\n",
    "    elif(BMI <= 24.9):\n",
    "        print(name +\", You are normal weight\")\n",
    "    elif(BMI < 29.9):\n",
    "        print(name +\", You are overweight. You need to exercise more\")\n",
    "    elif(BMI < 34.9):\n",
    "        print(name +\",  You are obese\")\n",
    "    elif(BMI < 39.9):\n",
    "        print(name +\", You are severerly obese\")\n",
    "    else:\n",
    "        print(name +\", You are morbidly obese\")\n",
    "else:\n",
    "        print(\"Enter valid input\")"
   ]
  },
  {
   "cell_type": "code",
   "execution_count": 10,
   "id": "1a7c7c01-1cdc-4090-878b-eefa88e17214",
   "metadata": {},
   "outputs": [
    {
     "name": "stdout",
     "output_type": "stream",
     "text": [
      "50\n"
     ]
    }
   ],
   "source": []
  },
  {
   "cell_type": "code",
   "execution_count": 22,
   "id": "99bb03e6-6b50-4f97-ae56-fb7d99c5a011",
   "metadata": {},
   "outputs": [
    {
     "ename": "SyntaxError",
     "evalue": "invalid syntax (714145936.py, line 14)",
     "output_type": "error",
     "traceback": [
      "\u001b[1;36m  Cell \u001b[1;32mIn[22], line 14\u001b[1;36m\u001b[0m\n\u001b[1;33m    else:\u001b[0m\n\u001b[1;37m    ^\u001b[0m\n\u001b[1;31mSyntaxError\u001b[0m\u001b[1;31m:\u001b[0m invalid syntax\n"
     ]
    }
   ],
   "source": [
    "if BMI > 0:\n",
    "    if(BMI < 18.5):\n",
    "        print(name+ \" \",\"You are underweight\")\n",
    "    elif(BMI <= 24.9):\n",
    "        print(name + \" \",\"You are normal weight\")\n",
    "    elif(BMI < 29.9):\n",
    "        print(name + \" \",\"You are overweight\")\n",
    "    elif(BMI < 34.9):\n",
    "        print(name + \" \",\"You are obese\")\n",
    "    elif(BMI < 39.9):\n",
    "        print(name + \" \",\"You are severerly obese\")\n",
    "    else:\n",
    "        print(name + \" \",\"You are morbidly obese\")\n",
    "    else:\n",
    "        print(\"Enter valid input\")"
   ]
  },
  {
   "cell_type": "code",
   "execution_count": null,
   "id": "74f139b7-edc5-4e82-b2b4-99650751b738",
   "metadata": {},
   "outputs": [],
   "source": []
  },
  {
   "cell_type": "code",
   "execution_count": null,
   "id": "8c91694a-4265-4f73-b307-227823fc18d6",
   "metadata": {},
   "outputs": [],
   "source": []
  },
  {
   "cell_type": "code",
   "execution_count": null,
   "id": "86b9f976-a8ff-42e1-b4c1-6ba7fa24fcd4",
   "metadata": {},
   "outputs": [],
   "source": [
    "print(weight)"
   ]
  }
 ],
 "metadata": {
  "kernelspec": {
   "display_name": "Python 3 (ipykernel)",
   "language": "python",
   "name": "python3"
  },
  "language_info": {
   "codemirror_mode": {
    "name": "ipython",
    "version": 3
   },
   "file_extension": ".py",
   "mimetype": "text/x-python",
   "name": "python",
   "nbconvert_exporter": "python",
   "pygments_lexer": "ipython3",
   "version": "3.12.4"
  }
 },
 "nbformat": 4,
 "nbformat_minor": 5
}
